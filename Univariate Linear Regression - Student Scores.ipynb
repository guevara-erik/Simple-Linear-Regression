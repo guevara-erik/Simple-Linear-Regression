{
 "cells": [
  {
   "cell_type": "markdown",
   "id": "e38b54a0",
   "metadata": {},
   "source": [
    "<div class=\"alert alert-block alert-success\">\n",
    "<h1>Univariate Linear Regression</h1> \n",
    "\n",
    "- **Problem to solve:** How long do you have to study to get a specific score. We can try to see a pattern in that data and predict a score based on how many hours the subject studies.\n",
    "- **Example:** You study 5.1 hours, and you get a 47% on the test, you study 9.2 hours, and you get an 88% score."
   ]
  },
  {
   "cell_type": "code",
   "execution_count": 30,
   "id": "64d357df",
   "metadata": {},
   "outputs": [],
   "source": [
    "# Import the requierd libraries\n",
    "\n",
    "import warnings\n",
    "warnings.filterwarnings(\"ignore\")\n",
    "\n",
    "import pandas as pd\n",
    "import numpy as np\n",
    "import seaborn as sns"
   ]
  },
  {
   "cell_type": "code",
   "execution_count": 20,
   "id": "c5f97c68",
   "metadata": {},
   "outputs": [],
   "source": [
    "df = pd.read_csv('student_scores.csv')"
   ]
  },
  {
   "cell_type": "code",
   "execution_count": 25,
   "id": "8b2b1506",
   "metadata": {},
   "outputs": [
    {
     "data": {
      "text/html": [
       "<div>\n",
       "<style scoped>\n",
       "    .dataframe tbody tr th:only-of-type {\n",
       "        vertical-align: middle;\n",
       "    }\n",
       "\n",
       "    .dataframe tbody tr th {\n",
       "        vertical-align: top;\n",
       "    }\n",
       "\n",
       "    .dataframe thead th {\n",
       "        text-align: right;\n",
       "    }\n",
       "</style>\n",
       "<table border=\"1\" class=\"dataframe\">\n",
       "  <thead>\n",
       "    <tr style=\"text-align: right;\">\n",
       "      <th></th>\n",
       "      <th>Hours</th>\n",
       "      <th>Scores</th>\n",
       "    </tr>\n",
       "  </thead>\n",
       "  <tbody>\n",
       "    <tr>\n",
       "      <th>0</th>\n",
       "      <td>2.5</td>\n",
       "      <td>21</td>\n",
       "    </tr>\n",
       "    <tr>\n",
       "      <th>1</th>\n",
       "      <td>5.1</td>\n",
       "      <td>47</td>\n",
       "    </tr>\n",
       "    <tr>\n",
       "      <th>2</th>\n",
       "      <td>3.2</td>\n",
       "      <td>27</td>\n",
       "    </tr>\n",
       "    <tr>\n",
       "      <th>3</th>\n",
       "      <td>8.5</td>\n",
       "      <td>75</td>\n",
       "    </tr>\n",
       "    <tr>\n",
       "      <th>4</th>\n",
       "      <td>3.5</td>\n",
       "      <td>30</td>\n",
       "    </tr>\n",
       "    <tr>\n",
       "      <th>5</th>\n",
       "      <td>1.5</td>\n",
       "      <td>20</td>\n",
       "    </tr>\n",
       "    <tr>\n",
       "      <th>6</th>\n",
       "      <td>9.2</td>\n",
       "      <td>88</td>\n",
       "    </tr>\n",
       "    <tr>\n",
       "      <th>7</th>\n",
       "      <td>5.5</td>\n",
       "      <td>60</td>\n",
       "    </tr>\n",
       "    <tr>\n",
       "      <th>8</th>\n",
       "      <td>8.3</td>\n",
       "      <td>81</td>\n",
       "    </tr>\n",
       "    <tr>\n",
       "      <th>9</th>\n",
       "      <td>2.7</td>\n",
       "      <td>25</td>\n",
       "    </tr>\n",
       "  </tbody>\n",
       "</table>\n",
       "</div>"
      ],
      "text/plain": [
       "   Hours  Scores\n",
       "0    2.5      21\n",
       "1    5.1      47\n",
       "2    3.2      27\n",
       "3    8.5      75\n",
       "4    3.5      30\n",
       "5    1.5      20\n",
       "6    9.2      88\n",
       "7    5.5      60\n",
       "8    8.3      81\n",
       "9    2.7      25"
      ]
     },
     "execution_count": 25,
     "metadata": {},
     "output_type": "execute_result"
    }
   ],
   "source": [
    "# let's check the first 10 values\n",
    "\n",
    "df.head(10)"
   ]
  },
  {
   "cell_type": "code",
   "execution_count": 26,
   "id": "39295bdc",
   "metadata": {},
   "outputs": [
    {
     "data": {
      "image/png": "[encoded data removed]",
      "text/plain": [
       "<Figure size 432x288 with 1 Axes>"
      ]
     },
     "metadata": {
      "needs_background": "light"
     },
     "output_type": "display_data"
    }
   ],
   "source": [
    "# Let's explore the relationship between the two variables\n",
    "# We plot the hours on the X-axis and scores on the Y-axis, and for each pair, a marker will be positioned based on their values:\n",
    "\n",
    "df.plot.scatter(x = 'Hours', y = 'Scores', title= 'Hours and Scores percentages',  color='green');"
   ]
  },
  {
   "cell_type": "markdown",
   "id": "ae0cdb4c",
   "metadata": {},
   "source": [
    "<div class=\"alert alert-block alert-info\">\n",
    "\n",
    "**Observation:**\n",
    "There's a reasonably high positive correlation. The shape of the line appears to be straight; we can say there is a positive linear correlation between the Hours and Scores variables.\n"
   ]
  },
  {
   "cell_type": "code",
   "execution_count": 5,
   "id": "0dd6abc7",
   "metadata": {},
   "outputs": [
    {
     "name": "stdout",
     "output_type": "stream",
     "text": [
      "           Hours    Scores\n",
      "Hours   1.000000  0.976191\n",
      "Scores  0.976191  1.000000\n"
     ]
    }
   ],
   "source": [
    "print(df.corr())"
   ]
  },
  {
   "cell_type": "markdown",
   "id": "5dea36f0",
   "metadata": {},
   "source": [
    "<div class=\"alert alert-block alert-info\">\n",
    "\n",
    "**Observation:**\n",
    "Having a high linear correlation means that we can generally tell the future value; even without calculation, you can conclude that if someone studies for a certain amount of time, they will get a certain percentage as their score. Since this relationship is solid, we'll be able to build a simple yet accurate linear regression algorithm to predict the score based on the study time."
   ]
  },
  {
   "cell_type": "markdown",
   "id": "906a3861",
   "metadata": {},
   "source": [
    "## Linear Regression with Scikit-learn"
   ]
  },
  {
   "cell_type": "code",
   "execution_count": 6,
   "id": "e469e0f5",
   "metadata": {},
   "outputs": [],
   "source": [
    "# Let's separate the target (y) and feature (X)\n",
    "\n",
    "y = df['Scores'].values.reshape(-1, 1)\n",
    "X = df['Hours'].values.reshape(-1, 1)"
   ]
  },
  {
   "cell_type": "code",
   "execution_count": 7,
   "id": "772e5b54",
   "metadata": {},
   "outputs": [],
   "source": [
    "# Let's split the dataset 80% train, 20% test\n",
    "\n",
    "from sklearn.model_selection import train_test_split\n",
    "X_train, X_test, y_train, y_test = train_test_split(X, y, test_size = 0.2, random_state = 7)"
   ]
  },
  {
   "cell_type": "code",
   "execution_count": 8,
   "id": "d43f0ab4",
   "metadata": {},
   "outputs": [],
   "source": [
    "# Training a Linear Regression Model\n",
    "\n",
    "from sklearn.linear_model import LinearRegression\n",
    "regressor = LinearRegression()"
   ]
  },
  {
   "cell_type": "code",
   "execution_count": 9,
   "id": "3147e9eb",
   "metadata": {},
   "outputs": [
    {
     "data": {
      "text/plain": [
       "LinearRegression()"
      ]
     },
     "execution_count": 9,
     "metadata": {},
     "output_type": "execute_result"
    }
   ],
   "source": [
    "# We need to fit the line to our data.\n",
    "\n",
    "regressor.fit(X_train, y_train)"
   ]
  },
  {
   "cell_type": "code",
   "execution_count": 10,
   "id": "1a3b94e0",
   "metadata": {},
   "outputs": [
    {
     "name": "stdout",
     "output_type": "stream",
     "text": [
      "[2.13003098]\n"
     ]
    }
   ],
   "source": [
    "# Let's check what is the regressor intercept\n",
    "# This represents the mean value of the response variable when all of the predictor variables in the model are equal to zero\n",
    "\n",
    "print(regressor.intercept_)"
   ]
  },
  {
   "cell_type": "code",
   "execution_count": 11,
   "id": "b90c1c66",
   "metadata": {},
   "outputs": [
    {
     "name": "stdout",
     "output_type": "stream",
     "text": [
      "[[9.84383236]]\n"
     ]
    }
   ],
   "source": [
    "# The parameter β (the regression coefficient) signifies the amount by which change in x must be multiplied to\n",
    "# give the corresponding average change in y, or the amount y changes for a unit increase in x.\n",
    "\n",
    "print(regressor.coef_)"
   ]
  },
  {
   "attachments": {
    "image-2.png": {
     "image/png": "[encoded data removed]"
    }
   },
   "cell_type": "markdown",
   "id": "e6b7369d",
   "metadata": {},
   "source": [
    "![image-2.png](attachment:image-2.png)"
   ]
  },
  {
   "cell_type": "markdown",
   "id": "8d18c0e1",
   "metadata": {},
   "source": [
    "## Making Predictions"
   ]
  },
  {
   "cell_type": "code",
   "execution_count": 12,
   "id": "1d91f141",
   "metadata": {},
   "outputs": [
    {
     "name": "stdout",
     "output_type": "stream",
     "text": [
      "[[30.67714484]]\n"
     ]
    }
   ],
   "source": [
    "# Method 1, creating a formula, passing the 2.9 hrs value directly\n",
    "\n",
    "score = ((regressor.coef_ * 2.9) + regressor.intercept_)\n",
    "print(score)"
   ]
  },
  {
   "cell_type": "code",
   "execution_count": 13,
   "id": "aba5e509",
   "metadata": {},
   "outputs": [
    {
     "name": "stdout",
     "output_type": "stream",
     "text": [
      "[[30.67714484]]\n"
     ]
    }
   ],
   "source": [
    "# Method 2, Predict new values using othe predict() method passing 2.9 in double brackets to have a 2 dimensional array:\n",
    "\n",
    "score = regressor.predict([[2.9]])\n",
    "print(score)"
   ]
  },
  {
   "cell_type": "code",
   "execution_count": 14,
   "id": "5d451adc",
   "metadata": {},
   "outputs": [
    {
     "name": "stdout",
     "output_type": "stream",
     "text": [
      "How many hours did you study? (From 0 to 10) 2.9\n",
      "Studying 2.9 hours, you have a high chance of gettting a [[30.67714484]]% score.\n"
     ]
    }
   ],
   "source": [
    "# Instead of typing directly the value, we can ask for hours\n",
    "\n",
    "score_ask = float(input('How many hours did you study? (From 0 to 10) '))\n",
    "score = regressor.predict([[score_ask]])\n",
    "print('Studying {} hours, you have a high chance of gettting a {}% score.'.format(score_ask, score)) "
   ]
  },
  {
   "cell_type": "code",
   "execution_count": 15,
   "id": "77b2677f",
   "metadata": {},
   "outputs": [],
   "source": [
    "# To make predictions on the test data, we pass the X_test values to the predict() method.\n",
    "\n",
    "y_pred = regressor.predict(X_test)"
   ]
  },
  {
   "cell_type": "code",
   "execution_count": 16,
   "id": "dcfd5ac8",
   "metadata": {},
   "outputs": [
    {
     "name": "stdout",
     "output_type": "stream",
     "text": [
      "   Actual  Predicted\n",
      "0      47  52.333576\n",
      "1      20  16.895780\n",
      "2      62  60.208642\n",
      "3      42  34.614678\n",
      "4      27  33.630295\n"
     ]
    }
   ],
   "source": [
    "### The y_pred variable contains all the predicted values for the input values in the X_test.\n",
    "# We can compare the actual output values for X_test with the predicted values, \n",
    "# by arranging them side by side in a dataframe structure:\n",
    "\n",
    "df_preds = pd.DataFrame({'Actual': y_test.squeeze(), 'Predicted': y_pred.squeeze()})\n",
    "print(df_preds)"
   ]
  },
  {
   "cell_type": "markdown",
   "id": "5c9891c4",
   "metadata": {},
   "source": [
    "<div class=\"alert alert-block alert-info\">\n",
    "\n",
    "**Observation:**\n",
    "The expected model is not precise since we have a minimal dataset. However, the predicted percentages are close to the actual ones. "
   ]
  },
  {
   "cell_type": "code",
   "execution_count": 32,
   "id": "da08be6e",
   "metadata": {},
   "outputs": [
    {
     "data": {
      "image/png": "[encoded data removed]",
      "text/plain": [
       "<Figure size 432x288 with 1 Axes>"
      ]
     },
     "metadata": {
      "needs_background": "light"
     },
     "output_type": "display_data"
    }
   ],
   "source": [
    "sns.regplot(y_test,predictions);"
   ]
  },
  {
   "cell_type": "markdown",
   "id": "0f3ae2bf",
   "metadata": {},
   "source": [
    "<div class=\"alert alert-block alert-info\">\n",
    "\n",
    "**Observation:**\n",
    "The above graph shows the model is predicting results within acceptable range. "
   ]
  },
  {
   "cell_type": "markdown",
   "id": "0d644fb5",
   "metadata": {},
   "source": [
    "## Model Evaluation\n",
    "- For regression models, three evaluation metrics are mainly used:\n",
    "     - Mean Absolute Error (MAE)\n",
    "     - Mean Squared Error (MSE)\n",
    "     - Root Mean Squared Error (RMSE)"
   ]
  },
  {
   "cell_type": "code",
   "execution_count": 17,
   "id": "48934033",
   "metadata": {},
   "outputs": [],
   "source": [
    "from sklearn.metrics import mean_absolute_error, mean_squared_error"
   ]
  },
  {
   "cell_type": "code",
   "execution_count": 18,
   "id": "0e1ae6da",
   "metadata": {},
   "outputs": [],
   "source": [
    "# Metrics calculations\n",
    "\n",
    "mae = mean_absolute_error(y_test, y_pred)\n",
    "mse = mean_squared_error(y_test, y_pred)\n",
    "rmse = np.sqrt(mse)"
   ]
  },
  {
   "cell_type": "code",
   "execution_count": 19,
   "id": "7a7e4d34",
   "metadata": {},
   "outputs": [
    {
     "name": "stdout",
     "output_type": "stream",
     "text": [
      "Mean absolute error: 4.85\n",
      "Mean squared error: 27.96\n",
      "Root mean squared error: 5.29\n"
     ]
    }
   ],
   "source": [
    "# print the metrics results using the f string and the 2 digit precision after the comma with :.2f:\n",
    "\n",
    "print(f'Mean absolute error: {mae:.2f}')\n",
    "print(f'Mean squared error: {mse:.2f}')\n",
    "print(f'Root mean squared error: {rmse:.2f}')"
   ]
  },
  {
   "cell_type": "markdown",
   "id": "e6f1254b",
   "metadata": {},
   "source": [
    "<div class=\"alert alert-block alert-info\">\n",
    "\n",
    "**Observation:**\n",
    "All the errors are low, and the metrics show a small value range despite the small data."
   ]
  }
 ],
 "metadata": {
  "kernelspec": {
   "display_name": "Python 3 (ipykernel)",
   "language": "python",
   "name": "python3"
  },
  "language_info": {
   "codemirror_mode": {
    "name": "ipython",
    "version": 3
   },
   "file_extension": ".py",
   "mimetype": "text/x-python",
   "name": "python",
   "nbconvert_exporter": "python",
   "pygments_lexer": "ipython3",
   "version": "3.8.8"
  }
 },
 "nbformat": 4,
 "nbformat_minor": 5
}
